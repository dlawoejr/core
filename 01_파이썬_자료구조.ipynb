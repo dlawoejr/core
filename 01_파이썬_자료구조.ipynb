{
  "nbformat": 4,
  "nbformat_minor": 0,
  "metadata": {
    "colab": {
      "provenance": [],
      "include_colab_link": true
    },
    "kernelspec": {
      "display_name": "Python 3",
      "language": "python",
      "name": "python3"
    },
    "language_info": {
      "codemirror_mode": {
        "name": "ipython",
        "version": 3
      },
      "file_extension": ".py",
      "mimetype": "text/x-python",
      "name": "python",
      "nbconvert_exporter": "python",
      "pygments_lexer": "ipython3",
      "version": "3.6.9"
    }
  },
  "cells": [
    {
      "cell_type": "markdown",
      "metadata": {
        "id": "view-in-github",
        "colab_type": "text"
      },
      "source": [
        "<a href=\"https://colab.research.google.com/github/dlawoejr/core/blob/dev/01_%ED%8C%8C%EC%9D%B4%EC%8D%AC_%EC%9E%90%EB%A3%8C%EA%B5%AC%EC%A1%B0.ipynb\" target=\"_parent\"><img src=\"https://colab.research.google.com/assets/colab-badge.svg\" alt=\"Open In Colab\"/></a>"
      ]
    },
    {
      "cell_type": "markdown",
      "metadata": {
        "id": "y6_ft113cFUb"
      },
      "source": [
        "## 파이썬의 철학"
      ]
    },
    {
      "cell_type": "code",
      "metadata": {
        "id": "5ySr_77AcFUb"
      },
      "source": [
        "import this"
      ],
      "execution_count": null,
      "outputs": []
    },
    {
      "cell_type": "markdown",
      "metadata": {
        "id": "0aabSnY6jFjM"
      },
      "source": [
        "## print (출력)"
      ]
    },
    {
      "cell_type": "markdown",
      "metadata": {
        "id": "awBY0WQUjIT5"
      },
      "source": [
        "- 첫 단원에서는 **기본 print() 의 출력**만 배웁니다.\n",
        "- 향후 실습 진행을 위한 정도만 배우고, 나중에 문자열 포맷팅에서 더 자세히 다룹니다."
      ]
    },
    {
      "cell_type": "code",
      "metadata": {
        "id": "7s3bLU2LjZ8j"
      },
      "source": [
        "print('오늘 파이썬 배우기 좋은 날이네!')"
      ],
      "execution_count": null,
      "outputs": []
    },
    {
      "cell_type": "code",
      "metadata": {
        "id": "Ux7c-OupjXWA"
      },
      "source": [
        "print(\"오늘은\", \"일요일\")"
      ],
      "execution_count": null,
      "outputs": []
    },
    {
      "cell_type": "code",
      "metadata": {
        "id": "kFtjObXhjZkO"
      },
      "source": [
        "print(1, 2, 3, 4)"
      ],
      "execution_count": null,
      "outputs": []
    },
    {
      "cell_type": "markdown",
      "metadata": {
        "id": "Lz5PVaZTjlFB"
      },
      "source": [
        "**Jupyter Notebook** 셀에서 맨 끝에 위치한 변수, 문자열, 숫자등은 자동으로 출력합니다.\n",
        "\n",
        "3.14, '안녕', 100 이렇게 3개의 값이 있지만, 항상 가장 마지막만 출력됩니다.`ㅡ"
      ]
    },
    {
      "cell_type": "code",
      "metadata": {
        "id": "i_1eYKiljvqh"
      },
      "source": [
        "3.14\n",
        "'안녕'\n",
        "100"
      ],
      "execution_count": null,
      "outputs": []
    },
    {
      "cell_type": "markdown",
      "metadata": {
        "id": "DhRp7joQQWjC"
      },
      "source": [
        "## 변수 (Variable)"
      ]
    },
    {
      "cell_type": "markdown",
      "metadata": {
        "id": "jYy2_H0LTTV1"
      },
      "source": [
        "변수는 **데이터를 담는 그릇**이라고 생각하시면 됩니다.\n",
        "\n",
        "변수라는 그릇에 정수를 담을 수도 있고, 긴 글을 담을 수도 있고, file을 담을 수도 있습니다. 우리가 재사용 하기 쉽게 **별명**을 지정해 줬다라고 쉽게 생각하시기 바랍니다."
      ]
    },
    {
      "cell_type": "markdown",
      "metadata": {
        "id": "pXEzU0KYQlFq"
      },
      "source": [
        "### 변수의 이름 규칙 (Rule)\n",
        "\n",
        "다음의 **문자만 사용**할 수 있습니다.\n",
        "- 소문자(a~z)\n",
        "- 대문자(A~Z)\n",
        "- 숫자(0~9)\n",
        "- 한글도 가능\n",
        "- 특수기호는 언더바(_) 만 허용\n",
        "\n",
        "다음의 **규칙**을 가집니다.\n",
        "- 대소 문자를 구분합니다.\n",
        "- 숫자는 맨 처음에 올 수 없습니다.\n",
        "- 예약어(keyword)는 사용할 수 없습니다. (def, if, del, import, return 등등)"
      ]
    },
    {
      "cell_type": "markdown",
      "metadata": {
        "id": "bOx6AZblQ7N5"
      },
      "source": [
        "case 1. 알파벳 (가능) / 대소문자 모두 가능 /심지어 **한글도 가능하나 사용하는 것은 비추**!"
      ]
    },
    {
      "cell_type": "code",
      "metadata": {
        "id": "TIK6Qp5RQ6-k"
      },
      "source": [
        "a = 1"
      ],
      "execution_count": null,
      "outputs": []
    },
    {
      "cell_type": "code",
      "metadata": {
        "id": "Wxpjs5SbSFdV"
      },
      "source": [
        "A = 1"
      ],
      "execution_count": null,
      "outputs": []
    },
    {
      "cell_type": "code",
      "metadata": {
        "id": "Pri05QNBSHD_"
      },
      "source": [
        "변수 = 1"
      ],
      "execution_count": null,
      "outputs": []
    },
    {
      "cell_type": "code",
      "metadata": {
        "id": "FKfXqeQoSIXU"
      },
      "source": [
        "변수"
      ],
      "execution_count": null,
      "outputs": []
    },
    {
      "cell_type": "markdown",
      "metadata": {
        "id": "nEyz3D-8Quh5"
      },
      "source": [
        "case 2. 알파벳 + 숫자 (가능)"
      ]
    },
    {
      "cell_type": "code",
      "metadata": {
        "id": "XJZFGL3oQk87"
      },
      "source": [
        "a1 = 1"
      ],
      "execution_count": null,
      "outputs": []
    },
    {
      "cell_type": "markdown",
      "metadata": {
        "id": "DMODcJQnRJQU"
      },
      "source": [
        "case 3. 알파벳 + 언더바(_) (가능)"
      ]
    },
    {
      "cell_type": "code",
      "metadata": {
        "id": "iLZ6Bp8PRaay"
      },
      "source": [
        "a_ = 1"
      ],
      "execution_count": null,
      "outputs": []
    },
    {
      "cell_type": "markdown",
      "metadata": {
        "id": "yfz1ox-5Rb0I"
      },
      "source": [
        "case 4. 언더바(_) + 알파벳 (가능))"
      ]
    },
    {
      "cell_type": "code",
      "metadata": {
        "id": "gXKzcmybRizo"
      },
      "source": [
        "_a = 1"
      ],
      "execution_count": null,
      "outputs": []
    },
    {
      "cell_type": "markdown",
      "metadata": {
        "id": "OrfMZBODQkyU"
      },
      "source": [
        "case 5. 숫자 + 알파벳 (불가능)"
      ]
    },
    {
      "cell_type": "code",
      "metadata": {
        "id": "Po0D-oA_QWLq"
      },
      "source": [
        "1a = 1"
      ],
      "execution_count": null,
      "outputs": []
    },
    {
      "cell_type": "markdown",
      "metadata": {
        "id": "cVC_51UAQ4_E"
      },
      "source": [
        "case 6. 특수문자 (불가능)"
      ]
    },
    {
      "cell_type": "code",
      "metadata": {
        "id": "1R5QFrVcRsip"
      },
      "source": [
        "* = 7"
      ],
      "execution_count": null,
      "outputs": []
    },
    {
      "cell_type": "markdown",
      "metadata": {
        "id": "DApK72LyRuWk"
      },
      "source": [
        "case 7. 언더바를 제외한 특수문자 (불가능)"
      ]
    },
    {
      "cell_type": "code",
      "metadata": {
        "id": "ib-k4vjZRuKR"
      },
      "source": [
        "a$ = 6"
      ],
      "execution_count": null,
      "outputs": []
    },
    {
      "cell_type": "markdown",
      "metadata": {
        "id": "C4N7rPjenZfj"
      },
      "source": [
        "case 8. 변수의 이름 사이의 공백 (불가능)"
      ]
    },
    {
      "cell_type": "code",
      "metadata": {
        "id": "t0noa6EOngJc"
      },
      "source": [
        "a b = 6"
      ],
      "execution_count": null,
      "outputs": []
    },
    {
      "cell_type": "markdown",
      "metadata": {
        "id": "Zi16utkrSWUB"
      },
      "source": [
        "주로 변수는 **소문자 알파벳으로 생성**하고, 필요시 **언더바**나 **숫자를 붙히는 방식**이 일반적입니다."
      ]
    },
    {
      "cell_type": "code",
      "metadata": {
        "id": "7um-fqf7R7gl"
      },
      "source": [
        "test = 10"
      ],
      "execution_count": null,
      "outputs": []
    },
    {
      "cell_type": "code",
      "metadata": {
        "id": "niBpyRtkSmIq"
      },
      "source": [
        "test01 = 20"
      ],
      "execution_count": null,
      "outputs": []
    },
    {
      "cell_type": "code",
      "metadata": {
        "id": "01krOD1tSprV"
      },
      "source": [
        "test_01 = 30"
      ],
      "execution_count": null,
      "outputs": []
    },
    {
      "cell_type": "markdown",
      "metadata": {
        "id": "e3jWuNkIFf52"
      },
      "source": [
        "## 데이터 타입 (Data Type)\n",
        "\n",
        "자료형태(자료형), 자료구조라고도 불리웁니다."
      ]
    },
    {
      "cell_type": "markdown",
      "metadata": {
        "id": "XG1zmhr-GLBP"
      },
      "source": [
        "**주요 데이터 타입(type)**\n",
        "\n",
        "1. `int` (정수): Integer(정수)의 약어이며, 정수를 나타내는 자료형입니다.\n",
        "2. `float` (실수): Floating point의 약어이며, 소수점이 있는 숫자를 나타내는 자료형입니다.\n",
        "3. `str` (문자열): 문자를 나타내는 자료형입니다. 작은 따옴표 혹은 큰 따옴표로 감싸져 있습니다.\n",
        "4. `bool` (참/거짓): 참 또는 거짓을 나타내는 자료형입니다. True, False에서 T와 F는 반드시 대문자로 표기해야 합니다."
      ]
    },
    {
      "cell_type": "markdown",
      "metadata": {
        "id": "YBYZV7sUvqG9"
      },
      "source": [
        "### type()"
      ]
    },
    {
      "cell_type": "markdown",
      "metadata": {
        "id": "HcxiywnGvrky"
      },
      "source": [
        "type 함수를 활용하여 데이터의 타입을 알아 볼 수 있습니다."
      ]
    },
    {
      "cell_type": "code",
      "metadata": {
        "id": "jCaILKrVvyC3"
      },
      "source": [
        "type(1)"
      ],
      "execution_count": null,
      "outputs": []
    },
    {
      "cell_type": "code",
      "metadata": {
        "id": "oq8Q46j4vzFc"
      },
      "source": [
        "type(3.14)"
      ],
      "execution_count": null,
      "outputs": []
    },
    {
      "cell_type": "code",
      "metadata": {
        "id": "rvpoQejsv0eT"
      },
      "source": [
        "type(\"안녕\")"
      ],
      "execution_count": null,
      "outputs": []
    },
    {
      "cell_type": "code",
      "metadata": {
        "id": "was4wayTv2G5"
      },
      "source": [
        "type(True)"
      ],
      "execution_count": null,
      "outputs": []
    },
    {
      "cell_type": "markdown",
      "metadata": {
        "id": "QHYQ09XIGg1_"
      },
      "source": [
        "## int (정수)\n",
        "\n",
        "Integer(정수)의 약어이며, 정수를 나타내는 자료형입니다."
      ]
    },
    {
      "cell_type": "code",
      "metadata": {
        "id": "y1cPV_XxFrkb"
      },
      "source": [
        "a = 1"
      ],
      "execution_count": null,
      "outputs": []
    },
    {
      "cell_type": "code",
      "metadata": {
        "id": "5jgHwf8wyeLZ"
      },
      "source": [
        "print(a)"
      ],
      "execution_count": null,
      "outputs": []
    },
    {
      "cell_type": "markdown",
      "metadata": {
        "id": "rg6q9SSXyjg1"
      },
      "source": [
        "**type 확인**"
      ]
    },
    {
      "cell_type": "code",
      "metadata": {
        "id": "At5R-m--FuuR"
      },
      "source": [
        "type(a)"
      ],
      "execution_count": null,
      "outputs": []
    },
    {
      "cell_type": "markdown",
      "metadata": {
        "id": "qOJu5f5kGjpf"
      },
      "source": [
        "## float (실수)\n",
        "\n",
        "Floating point의 약어이며, 소수점이 있는 숫자를 나타내는 자료형입니다."
      ]
    },
    {
      "cell_type": "code",
      "metadata": {
        "id": "4N-NaYDdGlTF"
      },
      "source": [
        "a = 3.14"
      ],
      "execution_count": null,
      "outputs": []
    },
    {
      "cell_type": "code",
      "metadata": {
        "id": "9wJn_P-roVh9"
      },
      "source": [
        "print(a)"
      ],
      "execution_count": null,
      "outputs": []
    },
    {
      "cell_type": "markdown",
      "metadata": {
        "id": "YDnumuaTyZ6Z"
      },
      "source": [
        "**type 확인**"
      ]
    },
    {
      "cell_type": "code",
      "metadata": {
        "id": "brYxR59nybX0"
      },
      "source": [
        "type(a)"
      ],
      "execution_count": null,
      "outputs": []
    },
    {
      "cell_type": "markdown",
      "metadata": {
        "id": "5sc68iMeGpJO"
      },
      "source": [
        "## str (문자열)\n",
        "\n",
        "문자를 나타내는 자료형입니다. 작은 따옴표 혹은 큰 따옴표로 감싸져 있습니다."
      ]
    },
    {
      "cell_type": "markdown",
      "metadata": {
        "id": "oDBZSyefxH2_"
      },
      "source": [
        "**작은 따옴표 '  '** 사이에 문자를 입력한 경우"
      ]
    },
    {
      "cell_type": "code",
      "metadata": {
        "id": "cosCc_J0Fv8l"
      },
      "source": [
        "word = '안녕하세요'"
      ],
      "execution_count": null,
      "outputs": []
    },
    {
      "cell_type": "code",
      "metadata": {
        "id": "Cr20488IxmXD"
      },
      "source": [
        "word"
      ],
      "execution_count": null,
      "outputs": []
    },
    {
      "cell_type": "markdown",
      "metadata": {
        "id": "ZFyH-jAdcFUm"
      },
      "source": [
        "**type 확인**"
      ]
    },
    {
      "cell_type": "code",
      "metadata": {
        "id": "p8Sm3D0BcFUm"
      },
      "source": [
        "type(word)"
      ],
      "execution_count": null,
      "outputs": []
    },
    {
      "cell_type": "markdown",
      "metadata": {
        "id": "JMnmYcx1xMPh"
      },
      "source": [
        "**큰 따옴표 \"  \"** 사이에 문자를 입력한 경우"
      ]
    },
    {
      "cell_type": "code",
      "metadata": {
        "id": "1S7b3MedofHY"
      },
      "source": [
        "word = \"안녕하세요\""
      ],
      "execution_count": null,
      "outputs": []
    },
    {
      "cell_type": "code",
      "metadata": {
        "id": "1b-NCWmwxlc-"
      },
      "source": [
        "word"
      ],
      "execution_count": null,
      "outputs": []
    },
    {
      "cell_type": "markdown",
      "metadata": {
        "id": "l4mipCwpcFUm"
      },
      "source": [
        "**여러 줄에 입력하고 싶을 때는 어떻게 해야하나요?**"
      ]
    },
    {
      "cell_type": "markdown",
      "metadata": {
        "id": "z867VOtKxpE8"
      },
      "source": [
        "**작은 따옴표 '''  '''** 3개를 연속해서 사용한 경우\n",
        "\n",
        "- 작은 따옴표나 큰 따옴표 3개를 연속해서 사용시 여러 줄에 나누어 문장을 입력할 수 있습니다."
      ]
    },
    {
      "cell_type": "code",
      "metadata": {
        "id": "Jw4PhisixyKm"
      },
      "source": [
        "word = '''안녕하세요\n",
        "반\n",
        "갑\n",
        "습\n",
        "니다.\n",
        "'''"
      ],
      "execution_count": null,
      "outputs": []
    },
    {
      "cell_type": "code",
      "metadata": {
        "id": "ke7J6qhox2Kg"
      },
      "source": [
        "print(word)"
      ],
      "execution_count": null,
      "outputs": []
    },
    {
      "cell_type": "markdown",
      "metadata": {
        "id": "DxZ6aOJDxWMo"
      },
      "source": [
        "**큰 따옴표 \"\"\"  \"\"\"** 3개를 연속해서 사용한 경우"
      ]
    },
    {
      "cell_type": "code",
      "metadata": {
        "id": "n78ln2Haxbih"
      },
      "source": [
        "word = \"\"\"안녕하세요\n",
        "반\n",
        "갑\n",
        "습\n",
        "니다.\n",
        "\"\"\""
      ],
      "execution_count": null,
      "outputs": []
    },
    {
      "cell_type": "code",
      "metadata": {
        "id": "pbbnjFhlxj5e"
      },
      "source": [
        "print(word)"
      ],
      "execution_count": null,
      "outputs": []
    },
    {
      "cell_type": "markdown",
      "metadata": {
        "id": "cHsbWm-2yCUU"
      },
      "source": [
        "**type 확인**"
      ]
    },
    {
      "cell_type": "code",
      "metadata": {
        "id": "8h_mSzprGr0M"
      },
      "source": [
        "type(word)"
      ],
      "execution_count": null,
      "outputs": []
    },
    {
      "cell_type": "markdown",
      "metadata": {
        "id": "v867uiHyF8nE"
      },
      "source": [
        "## bool (참/거짓)\n",
        "\n",
        "참 또는 거짓을 나타내는 자료형입니다. True, False에서 T와 F는 **반드시 대문자로 표기**해야 합니다."
      ]
    },
    {
      "cell_type": "code",
      "metadata": {
        "id": "cj28ZTzLQNrV"
      },
      "source": [
        "a = False"
      ],
      "execution_count": null,
      "outputs": []
    },
    {
      "cell_type": "code",
      "metadata": {
        "id": "nJayiV8HQP2S"
      },
      "source": [
        "print(a)"
      ],
      "execution_count": null,
      "outputs": []
    },
    {
      "cell_type": "markdown",
      "metadata": {
        "id": "7jUYm08YcFUo"
      },
      "source": [
        "**type 확인**"
      ]
    },
    {
      "cell_type": "code",
      "metadata": {
        "id": "BjqVUKfmcFUo"
      },
      "source": [
        "type(False)"
      ],
      "execution_count": null,
      "outputs": []
    },
    {
      "cell_type": "markdown",
      "metadata": {
        "id": "54k40G11awDe"
      },
      "source": [
        "* 정수 1은 `True`\n",
        "* 정수 0은 `False`"
      ]
    },
    {
      "cell_type": "markdown",
      "metadata": {
        "id": "oea4i98lcFUp"
      },
      "source": [
        "비교 연산자는 추후에 배우게 됩니다.\n",
        "\n",
        "파이썬에서는 **\"같다\"** 비교를 **\"==\"** 기호로 합니다."
      ]
    },
    {
      "cell_type": "code",
      "metadata": {
        "id": "corNodwUyMDM"
      },
      "source": [
        "1 == True"
      ],
      "execution_count": null,
      "outputs": []
    },
    {
      "cell_type": "code",
      "metadata": {
        "id": "-liXhXbSQQUj"
      },
      "source": [
        "0 == False"
      ],
      "execution_count": null,
      "outputs": []
    },
    {
      "cell_type": "markdown",
      "metadata": {
        "id": "lwifkFyyyRN9"
      },
      "source": [
        "**type 확인**"
      ]
    },
    {
      "cell_type": "code",
      "metadata": {
        "id": "ZMF44VAqyTuC"
      },
      "source": [
        "type(True)"
      ],
      "execution_count": null,
      "outputs": []
    },
    {
      "cell_type": "markdown",
      "metadata": {
        "id": "oBWsyhdR2Mc5"
      },
      "source": [
        "## 아무것도 아닌 None 타입"
      ]
    },
    {
      "cell_type": "markdown",
      "metadata": {
        "id": "G0DtMj4R2Vte"
      },
      "source": [
        "말 그래도 아무 것도 아닌 흔히 Null 값을 넣는다고도 합니다.\n",
        "\n",
        "사전상 의미는<br>\n",
        "* **Null: Nullify (무효화하다)**\n",
        "라는 뜻을 가지고 있다네요~\n",
        "\n",
        "python에서는 **None** 입니다!"
      ]
    },
    {
      "cell_type": "code",
      "metadata": {
        "id": "rFrHjjC22MMA"
      },
      "source": [
        "a = None"
      ],
      "execution_count": null,
      "outputs": []
    },
    {
      "cell_type": "markdown",
      "metadata": {
        "id": "uEnzzXN9cFUq"
      },
      "source": [
        "**type 확인**"
      ]
    },
    {
      "cell_type": "code",
      "metadata": {
        "id": "ABzXxy-EpVll"
      },
      "source": [
        "type(a)"
      ],
      "execution_count": null,
      "outputs": []
    },
    {
      "cell_type": "code",
      "metadata": {
        "id": "PpO_s24z2R5u"
      },
      "source": [
        "print(a)"
      ],
      "execution_count": null,
      "outputs": []
    },
    {
      "cell_type": "markdown",
      "metadata": {
        "id": "tkwBhMqAGq9S"
      },
      "source": [
        "# 타입 변환"
      ]
    },
    {
      "cell_type": "markdown",
      "metadata": {
        "id": "Gu3kD-3AcFUq"
      },
      "source": [
        "`int`를 `float`로 변환한 경우"
      ]
    },
    {
      "cell_type": "code",
      "metadata": {
        "id": "34hJc-g8GqlH"
      },
      "source": [
        "a = 1"
      ],
      "execution_count": null,
      "outputs": []
    },
    {
      "cell_type": "code",
      "metadata": {
        "id": "ZsS9iQBWGu8n"
      },
      "source": [
        "type(a)"
      ],
      "execution_count": null,
      "outputs": []
    },
    {
      "cell_type": "code",
      "metadata": {
        "id": "gPJc_onWGxHt"
      },
      "source": [
        "float(a)"
      ],
      "execution_count": null,
      "outputs": []
    },
    {
      "cell_type": "markdown",
      "metadata": {
        "id": "16xqQkl_cFUr"
      },
      "source": [
        "`float`를 `int`로 변환한 경우\n",
        "\n",
        "- float를 int로 변환시 반올림이 아닌 값이 버림되어 집니다. (소수점 이하 절삭)"
      ]
    },
    {
      "cell_type": "code",
      "metadata": {
        "id": "SBAX3lUzGyvJ"
      },
      "source": [
        "b = 3.99"
      ],
      "execution_count": null,
      "outputs": []
    },
    {
      "cell_type": "code",
      "metadata": {
        "id": "LAcL_eO1G14L"
      },
      "source": [
        "int(b)"
      ],
      "execution_count": null,
      "outputs": []
    },
    {
      "cell_type": "markdown",
      "metadata": {
        "id": "zKIcstZVcFUr"
      },
      "source": [
        "`bool`을 `int`로 변환한 경우"
      ]
    },
    {
      "cell_type": "code",
      "metadata": {
        "id": "3p_Q1mw5G4Va"
      },
      "source": [
        "c = True"
      ],
      "execution_count": null,
      "outputs": []
    },
    {
      "cell_type": "code",
      "metadata": {
        "id": "gJ2Ahcc1G8JW"
      },
      "source": [
        "int(c)"
      ],
      "execution_count": null,
      "outputs": []
    },
    {
      "cell_type": "code",
      "metadata": {
        "id": "3PUPM9GiG9mw"
      },
      "source": [
        "d = False"
      ],
      "execution_count": null,
      "outputs": []
    },
    {
      "cell_type": "code",
      "metadata": {
        "id": "Rh3IZO91G-_t"
      },
      "source": [
        "int(d)"
      ],
      "execution_count": null,
      "outputs": []
    },
    {
      "cell_type": "markdown",
      "metadata": {
        "id": "FUtjn3GOcFUs"
      },
      "source": [
        "`bool`을 `float`로 변환한 경우"
      ]
    },
    {
      "cell_type": "code",
      "metadata": {
        "id": "nTFtfEojHBOm"
      },
      "source": [
        "float(True)"
      ],
      "execution_count": null,
      "outputs": []
    },
    {
      "cell_type": "markdown",
      "metadata": {
        "id": "ux57MmP0cFUs"
      },
      "source": [
        "파이썬에서 **0이 아닌 값은 모두 True로 간주**한다."
      ]
    },
    {
      "cell_type": "code",
      "metadata": {
        "id": "YMQY1HTicFUt"
      },
      "source": [
        "bool(1)"
      ],
      "execution_count": null,
      "outputs": []
    },
    {
      "cell_type": "code",
      "metadata": {
        "id": "UuWFM0UVcFUt"
      },
      "source": [
        "bool(-10)"
      ],
      "execution_count": null,
      "outputs": []
    },
    {
      "cell_type": "code",
      "metadata": {
        "id": "AMjQCjZ8cFUt"
      },
      "source": [
        "bool(3.14)"
      ],
      "execution_count": null,
      "outputs": []
    },
    {
      "cell_type": "code",
      "metadata": {
        "id": "sECW3peAcFUt"
      },
      "source": [
        "bool(0)"
      ],
      "execution_count": null,
      "outputs": []
    },
    {
      "cell_type": "code",
      "metadata": {
        "id": "OaF3Mq7IcFUt"
      },
      "source": [
        "bool(0.0)"
      ],
      "execution_count": null,
      "outputs": []
    },
    {
      "cell_type": "markdown",
      "metadata": {
        "id": "T_A32Do8cFUt"
      },
      "source": [
        "## 연습문제"
      ]
    },
    {
      "cell_type": "markdown",
      "metadata": {
        "id": "rEVoUwp0cFUu"
      },
      "source": [
        "다음과 같이 출력 되도록 코드를 작성하세요"
      ]
    },
    {
      "cell_type": "markdown",
      "metadata": {
        "id": "dkt2mXNUcFUu"
      },
      "source": [
        "### Q1: Type 확인"
      ]
    },
    {
      "cell_type": "code",
      "metadata": {
        "id": "zSxjHyFycFUu"
      },
      "source": [
        "a = 3.14"
      ],
      "execution_count": null,
      "outputs": []
    },
    {
      "cell_type": "markdown",
      "metadata": {
        "id": "ZN9iLle9cFUu"
      },
      "source": [
        "타입을 확인해 주세요"
      ]
    },
    {
      "cell_type": "code",
      "metadata": {
        "id": "0tFToaW3cFUu"
      },
      "source": [
        "# 코드를 입력해 주세요\n"
      ],
      "execution_count": null,
      "outputs": []
    },
    {
      "cell_type": "markdown",
      "metadata": {
        "id": "icd9ggFRcFUu"
      },
      "source": [
        "<p><strong>[출력 결과]</strong></p><pre>float</pre>"
      ]
    },
    {
      "cell_type": "markdown",
      "metadata": {
        "id": "HGS3-WsecFUu"
      },
      "source": [
        "### Q2: Type 변경"
      ]
    },
    {
      "cell_type": "code",
      "metadata": {
        "id": "kpICi6grcFUv"
      },
      "source": [
        "a = 1"
      ],
      "execution_count": null,
      "outputs": []
    },
    {
      "cell_type": "markdown",
      "metadata": {
        "id": "J9OHEI7ocFUv"
      },
      "source": [
        "타입을 변경해 주세요"
      ]
    },
    {
      "cell_type": "code",
      "metadata": {
        "id": "Ehp-QfswcFUv"
      },
      "source": [
        "# 코드를 입력해 주세요\n"
      ],
      "execution_count": null,
      "outputs": []
    },
    {
      "cell_type": "markdown",
      "metadata": {
        "id": "cnsGggHvcFUv"
      },
      "source": [
        "<p><strong>[출력 결과]</strong></p><pre>1.0</pre>"
      ]
    },
    {
      "cell_type": "markdown",
      "metadata": {
        "id": "z_4fJfIKcFUv"
      },
      "source": [
        "### Q3: Type 변경"
      ]
    },
    {
      "cell_type": "code",
      "metadata": {
        "id": "ihCZBHYmcFUv"
      },
      "source": [
        "a = 1"
      ],
      "execution_count": null,
      "outputs": []
    },
    {
      "cell_type": "markdown",
      "metadata": {
        "id": "HbYXBP-BcFUv"
      },
      "source": [
        "타입을 변경해 주세요"
      ]
    },
    {
      "cell_type": "code",
      "metadata": {
        "id": "AlF4vYEacFUw"
      },
      "source": [
        "# 코드를 입력해 주세요\n"
      ],
      "execution_count": null,
      "outputs": []
    },
    {
      "cell_type": "markdown",
      "metadata": {
        "id": "rv0xc-6zcFUw"
      },
      "source": [
        "<p><strong>[출력 결과]</strong></p><pre>True</pre>"
      ]
    },
    {
      "cell_type": "markdown",
      "metadata": {
        "id": "rAknzzhDcFUw"
      },
      "source": [
        "### Q4: 타입 변경"
      ]
    },
    {
      "cell_type": "code",
      "metadata": {
        "id": "H4fkV9KKcFUw"
      },
      "source": [
        "a = False"
      ],
      "execution_count": null,
      "outputs": []
    },
    {
      "cell_type": "markdown",
      "metadata": {
        "id": "6CFpqc8FcFUw"
      },
      "source": [
        "타입을 변경해 주세요"
      ]
    },
    {
      "cell_type": "code",
      "metadata": {
        "id": "waDKfD8ncFUw"
      },
      "source": [
        "# 코드를 입력해 주세요\n"
      ],
      "execution_count": null,
      "outputs": []
    },
    {
      "cell_type": "markdown",
      "metadata": {
        "id": "HxX7ZKIqcFUw"
      },
      "source": [
        "<p><strong>[출력 결과]</strong></p><pre>0</pre>"
      ]
    },
    {
      "cell_type": "markdown",
      "metadata": {
        "id": "F2C_ljA8cFUx"
      },
      "source": [
        "### Q5: 타입 변경"
      ]
    },
    {
      "cell_type": "code",
      "metadata": {
        "id": "UAKinAYbcFUx"
      },
      "source": [
        "a = 123"
      ],
      "execution_count": null,
      "outputs": []
    },
    {
      "cell_type": "markdown",
      "metadata": {
        "id": "NhC88T6ccFUx"
      },
      "source": [
        "타입을 변경해 주세요"
      ]
    },
    {
      "cell_type": "code",
      "metadata": {
        "id": "QAwOjbQpcFUx"
      },
      "source": [
        "# 코드를 입력해 주세요\n"
      ],
      "execution_count": null,
      "outputs": []
    },
    {
      "cell_type": "markdown",
      "metadata": {
        "id": "wahiNPyUcFUx"
      },
      "source": [
        "<p><strong>[출력 결과]</strong></p><pre>'123'</pre>"
      ]
    }
  ]
}